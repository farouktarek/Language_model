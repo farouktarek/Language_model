{
  "nbformat": 4,
  "nbformat_minor": 0,
  "metadata": {
    "colab": {
      "provenance": []
    },
    "kernelspec": {
      "name": "python3",
      "display_name": "Python 3"
    },
    "language_info": {
      "name": "python"
    },
    "accelerator": "GPU",
    "gpuClass": "standard"
  },
  "cells": [
    {
      "cell_type": "markdown",
      "source": [
        "Code: fJYR928ga"
      ],
      "metadata": {
        "id": "OXoeUq9LGFF9"
      }
    },
    {
      "cell_type": "markdown",
      "source": [
        "Lecturer: Prof. Elvis Ndah"
      ],
      "metadata": {
        "id": "Ot9n8tTdG0d0"
      }
    },
    {
      "cell_type": "code",
      "source": [
        "import string\n",
        "import numpy as np\n",
        "import pandas as pd\n",
        "from random import randint\n",
        "import nltk\n",
        "\n",
        "from tensorflow.keras.preprocessing.text import Tokenizer\n",
        "from tensorflow.keras.preprocessing.sequence import pad_sequences\n",
        "from tensorflow.keras.callbacks import EarlyStopping, ModelCheckpoint\n",
        "from tensorflow.keras.utils import plot_model\n",
        "from tensorflow.keras.utils import to_categorical\n",
        "from tensorflow.keras.models import Sequential\n",
        "from tensorflow.keras.layers import Dense, LSTM, GRU, Embedding\n",
        "from tensorflow.keras.models import load_model\n",
        "\n",
        "from sklearn.model_selection import train_test_split\n",
        "\n",
        "\n",
        "from pickle import dump, load"
      ],
      "metadata": {
        "id": "6M8tgD65Gss4"
      },
      "execution_count": null,
      "outputs": []
    },
    {
      "cell_type": "code",
      "source": [
        "import os \n",
        "\n",
        "os.chdir('/content/drive/MyDrive/NLP_files/Assignment2')\n",
        "filelist = os.listdir(os.getcwd())\n",
        "filelist"
      ],
      "metadata": {
        "colab": {
          "base_uri": "https://localhost:8080/"
        },
        "id": "pqhtNRgXYQHT",
        "outputId": "15c69a27-2162-498d-c4f8-65a3b99b299b"
      },
      "execution_count": null,
      "outputs": [
        {
          "output_type": "execute_result",
          "data": {
            "text/plain": [
              "['Things_Fall_Apart.txt',\n",
              " 'Arrow_of_God.txt',\n",
              " 'Anthills_of_the_Savannah.txt',\n",
              " 'A_Man_of_the_People.txt']"
            ]
          },
          "metadata": {},
          "execution_count": 2
        }
      ]
    },
    {
      "cell_type": "code",
      "source": [
        "#doc = []\n",
        "s = ''\n",
        "for dir in filelist:\n",
        "  file = open(dir, 'r', encoding='latin-1')\n",
        "  #doc.append( file.read() )\n",
        "  s += str(file.read())\n",
        "  file.close()"
      ],
      "metadata": {
        "id": "ZT6vl4EsOgcy"
      },
      "execution_count": null,
      "outputs": []
    },
    {
      "cell_type": "code",
      "source": [
        "# turn a doc into clean tokens\n",
        "def clean_doc(doc):\n",
        "    \"\"\"Clean text\"\"\"\n",
        "    doc = doc.replace('--', ' ')\n",
        "    tokens = doc.split() # split into tokens by white space\n",
        "    table = str.maketrans('', '', string.punctuation) # remove punctuation\n",
        "    tokens = [w.translate(table) for w in tokens]\n",
        "    tokens = [word for word in tokens if word.isalpha()] # remove non-alphabetic tokens\n",
        "    tokens = [word.lower() for word in tokens]\n",
        "\n",
        "    return tokens\n",
        " \n",
        "# save tokens to file, one dialog per line\n",
        "def save_doc(lines, filename):\n",
        "    data = '\\n'.join(lines)\n",
        "    file = open(filename, 'w')\n",
        "    file.write(data)\n",
        "    file.close()"
      ],
      "metadata": {
        "id": "_aZF2vvfdudX"
      },
      "execution_count": null,
      "outputs": []
    },
    {
      "cell_type": "code",
      "source": [
        "tokens = clean_doc(s)\n",
        "print(tokens[:20])\n",
        "print('Total Tokens: %d' % len(tokens))\n",
        "print('Unique Tokens: %d' % len(set(tokens)))"
      ],
      "metadata": {
        "colab": {
          "base_uri": "https://localhost:8080/"
        },
        "id": "mLHCgO_De9-t",
        "outputId": "6007e738-9f51-4d63-a4c7-96e436e0b4a3"
      },
      "execution_count": null,
      "outputs": [
        {
          "output_type": "stream",
          "name": "stdout",
          "text": [
            "['things', 'fall', 'apart', 'chinua', 'achebe', 'first', 'published', 'in', 'one', 'of', 'the', 'first', 'african', 'novels', 'written', 'in', 'english', 'to', 'receive', 'global']\n",
            "Total Tokens: 275070\n",
            "Unique Tokens: 14817\n"
          ]
        }
      ]
    },
    {
      "cell_type": "code",
      "source": [
        "# organize into sequences of tokens\n",
        "length = 50 + 1 \n",
        "sequences = list()\n",
        "for i in range(length, len(tokens)):\n",
        "    # select sequence of tokens\n",
        "    seq = tokens[i-length:i]\n",
        "    # convert into a line\n",
        "    line = ' '.join(seq)\n",
        "    sequences.append(line)\n",
        "    \n",
        "print('Total Sequences: %d' % len(sequences))"
      ],
      "metadata": {
        "colab": {
          "base_uri": "https://localhost:8080/"
        },
        "id": "hQpWqd3Yl_dH",
        "outputId": "06c90444-d038-4450-ab07-b1c2f37968d1"
      },
      "execution_count": null,
      "outputs": [
        {
          "output_type": "stream",
          "name": "stdout",
          "text": [
            "Total Sequences: 275019\n"
          ]
        }
      ]
    },
    {
      "cell_type": "code",
      "source": [
        "save_doc(sequences, 'text_sequence.txt')"
      ],
      "metadata": {
        "id": "uq2kDwJom7D3"
      },
      "execution_count": null,
      "outputs": []
    },
    {
      "cell_type": "code",
      "source": [
        "# load doc into memory\n",
        "def load_doc(filename):\n",
        "    file = open(filename, 'r')\n",
        "    text = file.read()\n",
        "    file.close()\n",
        "    return text"
      ],
      "metadata": {
        "id": "1TQtPFOvqYsX"
      },
      "execution_count": null,
      "outputs": []
    },
    {
      "cell_type": "code",
      "source": [
        "doc = load_doc('text_sequence.txt')\n",
        "lines = doc.split('\\n')"
      ],
      "metadata": {
        "id": "DIlMV6ASqaCA"
      },
      "execution_count": null,
      "outputs": []
    },
    {
      "cell_type": "code",
      "source": [
        "# integer encode sequences of words\n",
        "tokenizer = Tokenizer()\n",
        "tokenizer.fit_on_texts(lines)\n",
        "sequences = tokenizer.texts_to_sequences(lines)"
      ],
      "metadata": {
        "id": "yJazmZ1qqlc5"
      },
      "execution_count": null,
      "outputs": []
    },
    {
      "cell_type": "code",
      "source": [
        "# vocabulary size\n",
        "vocab_size = len(tokenizer.word_index) + 1\n",
        "print(vocab_size)"
      ],
      "metadata": {
        "colab": {
          "base_uri": "https://localhost:8080/"
        },
        "id": "bS0crjgPqoOI",
        "outputId": "89ffc41a-82df-4bdd-8cb8-6c2283ba514a"
      },
      "execution_count": null,
      "outputs": [
        {
          "output_type": "stream",
          "name": "stdout",
          "text": [
            "14818\n"
          ]
        }
      ]
    },
    {
      "cell_type": "code",
      "source": [
        "# separate into input and output\n",
        "sequences = np.array(sequences)\n",
        "X, y = sequences[:,:-1], sequences[:,-1]\n",
        "y = to_categorical(y, num_classes=vocab_size)\n",
        "\n",
        "seq_length = X.shape[1]"
      ],
      "metadata": {
        "id": "UmxyMXYfquL-"
      },
      "execution_count": null,
      "outputs": []
    },
    {
      "cell_type": "code",
      "source": [
        "X.shape, y.shape"
      ],
      "metadata": {
        "colab": {
          "base_uri": "https://localhost:8080/"
        },
        "id": "AgaXsILIq74N",
        "outputId": "ab9379d7-9334-497d-fd6f-7b50aa8e2333"
      },
      "execution_count": null,
      "outputs": [
        {
          "output_type": "execute_result",
          "data": {
            "text/plain": [
              "((275019, 50), (275019, 14818))"
            ]
          },
          "metadata": {},
          "execution_count": 13
        }
      ]
    },
    {
      "cell_type": "code",
      "source": [
        "type(X)"
      ],
      "metadata": {
        "colab": {
          "base_uri": "https://localhost:8080/"
        },
        "id": "Mm1hxUNoyWO2",
        "outputId": "e825f07a-ecb1-4b13-c54d-56dccc23c815"
      },
      "execution_count": null,
      "outputs": [
        {
          "output_type": "execute_result",
          "data": {
            "text/plain": [
              "numpy.ndarray"
            ]
          },
          "metadata": {},
          "execution_count": 14
        }
      ]
    },
    {
      "cell_type": "code",
      "source": [
        "X_train, X_test, Y_train, Y_test = train_test_split(X, y, test_size=0.2)\n",
        "X_train, X_val, Y_train, Y_val = train_test_split(X_train, Y_train, test_size=0.2)"
      ],
      "metadata": {
        "id": "PFR42-DnuVm4"
      },
      "execution_count": null,
      "outputs": []
    },
    {
      "cell_type": "code",
      "source": [
        "# define model\n",
        "model = Sequential()\n",
        "model.add(Embedding(vocab_size, 50, input_length=seq_length))\n",
        "model.add(LSTM(100, return_sequences=True))\n",
        "model.add(LSTM(100))\n",
        "model.add(Dense(100, activation='relu'))\n",
        "model.add(Dense(vocab_size, activation='softmax'))\n",
        "\n",
        "print(model.summary())"
      ],
      "metadata": {
        "colab": {
          "base_uri": "https://localhost:8080/"
        },
        "id": "YDTL6HX7rD33",
        "outputId": "93496a60-2a46-4377-e6a4-68e0f95cdf10"
      },
      "execution_count": null,
      "outputs": [
        {
          "output_type": "stream",
          "name": "stdout",
          "text": [
            "Model: \"sequential\"\n",
            "_________________________________________________________________\n",
            " Layer (type)                Output Shape              Param #   \n",
            "=================================================================\n",
            " embedding (Embedding)       (None, 50, 50)            740900    \n",
            "                                                                 \n",
            " lstm (LSTM)                 (None, 50, 100)           60400     \n",
            "                                                                 \n",
            " lstm_1 (LSTM)               (None, 100)               80400     \n",
            "                                                                 \n",
            " dense (Dense)               (None, 100)               10100     \n",
            "                                                                 \n",
            " dense_1 (Dense)             (None, 14818)             1496618   \n",
            "                                                                 \n",
            "=================================================================\n",
            "Total params: 2,388,418\n",
            "Trainable params: 2,388,418\n",
            "Non-trainable params: 0\n",
            "_________________________________________________________________\n",
            "None\n"
          ]
        }
      ]
    },
    {
      "cell_type": "code",
      "source": [],
      "metadata": {
        "id": "AV8sxPZvtyUP"
      },
      "execution_count": null,
      "outputs": []
    }
  ]
}